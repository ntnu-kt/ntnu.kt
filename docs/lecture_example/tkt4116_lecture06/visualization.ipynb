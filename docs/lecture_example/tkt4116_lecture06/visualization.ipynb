{
 "cells": [
  {
   "cell_type": "markdown",
   "metadata": {},
   "source": [
    "# Løsning og visualisering av bjelke med overheng\n",
    "\n",
    "_Med utgangspunkt i forelesning 6, eksempel på notat, side 6._"
   ]
  },
  {
   "cell_type": "code",
   "execution_count": 55,
   "metadata": {},
   "outputs": [],
   "source": [
    "import numpy as np\n",
    "\n",
    "\n",
    "\"\"\"\n",
    "Statisk løsning. Kan antas løst i forkant av forelesning.\n",
    "\n",
    "Formål: bygge funksjoner M(x) og V(x) som kan ta inn et numpy-array av X-verdier.\n",
    "\n",
    "Ikke antatt skrevet av studenter, men skrevet for å være lett å bruke i etterkant. Jeg gjør\n",
    "to ting som ikke er forventet kunnskap for førsteklassestudenter:\n",
    "\n",
    "- Bruker klasser til å regne ut konstanter så jeg kan eksponere V(x) og M(x) på en løsning\n",
    "- Skriver vektoriserte løsninger for V(x) og M(x) slik at de kan fungere direkte med numpy,\n",
    "  og kjøre raskt.\n",
    "\n",
    "Kunnskapen er ikke nødvendig for å bruke løsningen.\n",
    "\"\"\"\n",
    "\n",
    "\n",
    "class Solve:\n",
    "    \"\"\"Solve example on page 7 of lecture 6.\n",
    "    \n",
    "    Conventions:    \n",
    "        x = 0 in A (left)\n",
    "        Positive V(x): ↓▯↑\n",
    "        Positive M(x): ⤸▯⤹\n",
    "    \n",
    "    Constants q and F are taken as parameters. Then we can run the solver both with and \n",
    "    without SI units.\n",
    "    \"\"\"\n",
    "    \n",
    "    def __init__(self, q, L):\n",
    "        self.q = q\n",
    "        self.L = L\n",
    "        self.F = q * L\n",
    "        self.R_tot = self.F + q*2*L\n",
    "\n",
    "        # Solve for moment equilibrium around A\n",
    "        self.M_A = q*2*L*L + self.F*3*L\n",
    "\n",
    "        # B_y must balance M_A\n",
    "        self.B_y = self.M_A / (2*L)\n",
    "\n",
    "        # Require total force equilibrium\n",
    "        self.A_y = self.R_tot - self.B_y\n",
    "    \n",
    "    def V(self, x):\n",
    "        \"\"\"\n",
    "        Positive V(x): ↓▯↑\n",
    "        \"\"\"\n",
    "        after_B_y = x > 2*self.L\n",
    "        \n",
    "        return (\n",
    "            -self.A_y + self.q*x\n",
    "            - after_B_y * self.B_y\n",
    "        )\n",
    "    \n",
    "    def M(self, x):\n",
    "        \"\"\"\n",
    "        Positive M(x): ⤸▯⤹\n",
    "        \"\"\"\n",
    "        before_B_y = x < 2*self.L\n",
    "        after_B_y = np.logical_not(before_B_y)\n",
    "        \n",
    "        return (\n",
    "            -self.A_y*x\n",
    "            + before_B_y * self.q*x*x/2\n",
    "            + after_B_y * (\n",
    "                self.q*2*self.L * (x - self.L)\n",
    "                - self.B_y * (x - 2*self.L)\n",
    "            )\n",
    "        )"
   ]
  },
  {
   "cell_type": "code",
   "execution_count": 57,
   "metadata": {},
   "outputs": [
    {
     "data": {
      "application/vnd.vegalite.v2+json": {
       "$schema": "https://vega.github.io/schema/vega-lite/v2.6.0.json",
       "config": {
        "view": {
         "height": 300,
         "width": 400
        }
       },
       "data": {
        "name": "data-71ff0cf4072a10ab138a278ddff61103"
       },
       "datasets": {
        "data-71ff0cf4072a10ab138a278ddff61103": [
         {
          "M(x)": 0,
          "V(x)": -0.5,
          "x": 0
         },
         {
          "M(x)": -0.045,
          "V(x)": -0.4,
          "x": 0.1
         },
         {
          "M(x)": -0.08,
          "V(x)": -0.3,
          "x": 0.2
         },
         {
          "M(x)": -0.10500000000000001,
          "V(x)": -0.19999999999999996,
          "x": 0.30000000000000004
         },
         {
          "M(x)": -0.12,
          "V(x)": -0.09999999999999998,
          "x": 0.4
         },
         {
          "M(x)": -0.125,
          "V(x)": 0,
          "x": 0.5
         },
         {
          "M(x)": -0.12,
          "V(x)": 0.10000000000000009,
          "x": 0.6000000000000001
         },
         {
          "M(x)": -0.10499999999999998,
          "V(x)": 0.20000000000000007,
          "x": 0.7000000000000001
         },
         {
          "M(x)": -0.07999999999999996,
          "V(x)": 0.30000000000000004,
          "x": 0.8
         },
         {
          "M(x)": -0.044999999999999984,
          "V(x)": 0.4,
          "x": 0.9
         },
         {
          "M(x)": 0,
          "V(x)": 0.5,
          "x": 1
         },
         {
          "M(x)": 0.05500000000000005,
          "V(x)": 0.6000000000000001,
          "x": 1.1
         },
         {
          "M(x)": 0.1200000000000001,
          "V(x)": 0.7000000000000002,
          "x": 1.2000000000000002
         },
         {
          "M(x)": 0.19500000000000006,
          "V(x)": 0.8,
          "x": 1.3
         },
         {
          "M(x)": 0.28000000000000014,
          "V(x)": 0.9000000000000001,
          "x": 1.4000000000000001
         },
         {
          "M(x)": 0.375,
          "V(x)": 1,
          "x": 1.5
         },
         {
          "M(x)": 0.4800000000000002,
          "V(x)": 1.1,
          "x": 1.6
         },
         {
          "M(x)": 0.5950000000000002,
          "V(x)": 1.2000000000000002,
          "x": 1.7000000000000002
         },
         {
          "M(x)": 0.7200000000000001,
          "V(x)": 1.3,
          "x": 1.8
         },
         {
          "M(x)": 0.8550000000000001,
          "V(x)": 1.4000000000000001,
          "x": 1.9000000000000001
         },
         {
          "M(x)": 1,
          "V(x)": 1.5,
          "x": 2
         },
         {
          "M(x)": 0.8999999999999999,
          "V(x)": -0.8999999999999999,
          "x": 2.1
         },
         {
          "M(x)": 0.7999999999999998,
          "V(x)": -0.7999999999999998,
          "x": 2.2
         },
         {
          "M(x)": 0.6999999999999997,
          "V(x)": -0.6999999999999997,
          "x": 2.3000000000000003
         },
         {
          "M(x)": 0.5999999999999996,
          "V(x)": -0.5999999999999996,
          "x": 2.4000000000000004
         },
         {
          "M(x)": 0.5,
          "V(x)": -0.5,
          "x": 2.5
         },
         {
          "M(x)": 0.3999999999999999,
          "V(x)": -0.3999999999999999,
          "x": 2.6
         },
         {
          "M(x)": 0.2999999999999998,
          "V(x)": -0.2999999999999998,
          "x": 2.7
         },
         {
          "M(x)": 0.1999999999999995,
          "V(x)": -0.19999999999999973,
          "x": 2.8000000000000003
         },
         {
          "M(x)": 0.09999999999999964,
          "V(x)": -0.09999999999999964,
          "x": 2.9000000000000004
         },
         {
          "M(x)": 0,
          "V(x)": 0,
          "x": 3
         }
        ]
       },
       "vconcat": [
        {
         "encoding": {
          "x": {
           "field": "x",
           "type": "quantitative"
          },
          "y": {
           "field": "V(x)",
           "type": "quantitative"
          }
         },
         "mark": "line",
         "selection": {
          "selector040": {
           "bind": "scales",
           "encodings": [
            "x",
            "y"
           ],
           "mark": {
            "fill": "#333",
            "fillOpacity": 0.125,
            "stroke": "white"
           },
           "on": "[mousedown, window:mouseup] > window:mousemove!",
           "resolve": "global",
           "translate": "[mousedown, window:mouseup] > window:mousemove!",
           "type": "interval",
           "zoom": "wheel!"
          }
         }
        },
        {
         "encoding": {
          "x": {
           "field": "x",
           "type": "quantitative"
          },
          "y": {
           "field": "M(x)",
           "type": "quantitative"
          }
         },
         "mark": "line",
         "selection": {
          "selector040": {
           "bind": "scales",
           "encodings": [
            "x",
            "y"
           ],
           "mark": {
            "fill": "#333",
            "fillOpacity": 0.125,
            "stroke": "white"
           },
           "on": "[mousedown, window:mouseup] > window:mousemove!",
           "resolve": "global",
           "translate": "[mousedown, window:mouseup] > window:mousemove!",
           "type": "interval",
           "zoom": "wheel!"
          }
         }
        }
       ]
      },
      "image/png": "[encoded data removed]",
      "text/plain": [
       "<VegaLite 2 object>\n",
       "\n",
       "If you see this message, it means the renderer has not been properly enabled\n",
       "for the frontend that you are using. For more information, see\n",
       "https://altair-viz.github.io/user_guide/troubleshooting.html\n"
      ]
     },
     "execution_count": 57,
     "metadata": {},
     "output_type": "execute_result"
    }
   ],
   "source": [
    "# Use unit load and unit length to get dimensionless solutions\n",
    "solution = Solve(1, 1)\n",
    "xs = np.linspace(0, 3, 31)\n",
    "\n",
    "# Now, plot it.\n",
    "import altair as alt\n",
    "import pandas as pd\n",
    "\n",
    "\"\"\"\n",
    "A DataFrame is a columnar table:\n",
    " x   V(x)    M(x)\n",
    "0.0  -0.5   0.000\n",
    "0.1  -0.4  -0.045\n",
    "0.2  -0.3  -0.080\n",
    "\"\"\"\n",
    "source = pd.DataFrame({\n",
    "    'x': xs,\n",
    "    'V(x)': solution.V(xs),\n",
    "    'M(x)': solution.M(xs)\n",
    "})\n",
    "\n",
    "# Now, display both V(x) and M(x) with x-axes in sync\n",
    "\n",
    "base = alt.Chart().mark_line().interactive()\n",
    "\n",
    "chart = alt.vconcat(\n",
    "    base.encode(x=\"x\", y=\"V(x)\"),\n",
    "    base.encode(x=\"x\", y=\"M(x)\"),\n",
    "    data=source\n",
    ")\n",
    "chart\n",
    "\n",
    "# In Github, these render as static images. In Jupyter Lab and\n",
    "# as exported to HTML, these are interactive. You can then pan\n",
    "# and zoom in the plot."
   ]
  }
 ],
 "metadata": {
  "kernelspec": {
   "display_name": "Python 3",
   "language": "python",
   "name": "python3"
  },
  "language_info": {
   "codemirror_mode": {
    "name": "ipython",
    "version": 3
   },
   "file_extension": ".py",
   "mimetype": "text/x-python",
   "name": "python",
   "nbconvert_exporter": "python",
   "pygments_lexer": "ipython3",
   "version": "3.7.0"
  }
 },
 "nbformat": 4,
 "nbformat_minor": 2
}
