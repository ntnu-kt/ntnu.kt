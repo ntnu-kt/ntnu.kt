{
 "cells": [
  {
   "cell_type": "markdown",
   "metadata": {
    "slideshow": {
     "slide_type": "slide"
    }
   },
   "source": [
    "# Python-kurs\n",
    "\n",
    "Python kurs for NTNU KT 2018-10-05."
   ]
  },
  {
   "cell_type": "code",
   "execution_count": 1,
   "metadata": {},
   "outputs": [
    {
     "name": "stdin",
     "output_type": "stream",
     "text": [
      "Gimme a number! 99\n"
     ]
    },
    {
     "name": "stdout",
     "output_type": "stream",
     "text": [
      "99\n"
     ]
    }
   ],
   "source": [
    "x = input(\"Gimme a number!\")\n",
    "print(x)"
   ]
  },
  {
   "cell_type": "code",
   "execution_count": 23,
   "metadata": {},
   "outputs": [
    {
     "data": {
      "text/plain": [
       "777623"
      ]
     },
     "execution_count": 23,
     "metadata": {},
     "output_type": "execute_result"
    }
   ],
   "source": [
    "x = 99\n",
    "y = 10000\n",
    "\n",
    "(x + y) * 77"
   ]
  },
  {
   "cell_type": "code",
   "execution_count": 2,
   "metadata": {},
   "outputs": [
    {
     "name": "stdout",
     "output_type": "stream",
     "text": [
      "7\n"
     ]
    },
    {
     "data": {
      "text/plain": [
       "'something'"
      ]
     },
     "execution_count": 2,
     "metadata": {},
     "output_type": "execute_result"
    }
   ],
   "source": [
    "s = \"\"\"Så, dette gikk vel greit?\n",
    "\n",
    "Jupyter tror dette er Python, så jeg trykker Esc M Ctrl+Enter.\n",
    "\n",
    "Vil jeg kjøre dette som kode, trykker jeg Esc Y Ctrl+Enter. Men dette er ikke et program!\n",
    "\n",
    "Nå har vi pakket teksten inn i tre \"-tegn over og under.\"\"\"\n",
    "\n",
    "print(len(s.splitlines()))\n",
    "\"something\"\n",
    "# Åtte linjer"
   ]
  },
  {
   "cell_type": "markdown",
   "metadata": {},
   "source": [
    "Hva med matematikk? x_i = C * y_i ser litt stygt ut.\n",
    "\n",
    "LaTeX kan hjelpe oss! Jupyter lar oss skrive matematikk i LaTeX-format inne i markdown-blokkene våre. Bruk dollar-tegn rundt matematikkken, og vi får $x_i = C * y_i$. Eller $x_i = C \\times y_i$, $x_i = C \\cdot y_i$."
   ]
  },
  {
   "cell_type": "markdown",
   "metadata": {},
   "source": [
    "Hvis vi ønsker å skrive matematikk på en egen linje, bruker vi dobbelt opp med dollartegn. La\n",
    "\n",
    "$$\n",
    "x_i = C * y_i,\n",
    "$$\n",
    "\n",
    "... så får vi et gitt resultat."
   ]
  },
  {
   "cell_type": "markdown",
   "metadata": {
    "slideshow": {
     "slide_type": "slide"
    }
   },
   "source": [
    "Shift-L skrur visst av og på linjenumre.\n",
    "\n",
    "Vi kan eksportere til diverse formater. Ctrl+Shift+C to the rescue!"
   ]
  },
  {
   "cell_type": "markdown",
   "metadata": {
    "slideshow": {
     "slide_type": "slide"
    }
   },
   "source": [
    "---"
   ]
  },
  {
   "cell_type": "markdown",
   "metadata": {
    "slideshow": {
     "slide_type": "slide"
    }
   },
   "source": [
    "Neste slide?"
   ]
  },
  {
   "cell_type": "markdown",
   "metadata": {},
   "source": [
    "## Trenger vi en overskrift?\n",
    "\n",
    "Dette er en h2"
   ]
  },
  {
   "cell_type": "markdown",
   "metadata": {},
   "source": [
    "## Enda en h2\n",
    "\n",
    "!!!!"
   ]
  },
  {
   "cell_type": "markdown",
   "metadata": {},
   "source": [
    "# Eller en h1!"
   ]
  }
 ],
 "metadata": {
  "kernelspec": {
   "display_name": "Python 3",
   "language": "python",
   "name": "python3"
  },
  "language_info": {
   "codemirror_mode": {
    "name": "ipython",
    "version": 3
   },
   "file_extension": ".py",
   "mimetype": "text/x-python",
   "name": "python",
   "nbconvert_exporter": "python",
   "pygments_lexer": "ipython3",
   "version": "3.7.0"
  }
 },
 "nbformat": 4,
 "nbformat_minor": 2
}
