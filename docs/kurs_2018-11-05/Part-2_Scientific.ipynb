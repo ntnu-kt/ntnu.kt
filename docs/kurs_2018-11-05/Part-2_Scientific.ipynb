{
 "cells": [
  {
   "cell_type": "markdown",
   "metadata": {},
   "source": [
    "# Del 2: Vitenskaplig programmering med Python\n",
    "\n",
    "_Programmering for resultater, ikke for system_"
   ]
  },
  {
   "cell_type": "markdown",
   "metadata": {},
   "source": [
    "- Numpy: numerisk programmering\n",
    "- Scipy: heterogen samling for vitenskaplig programmering\n",
    "- Sympy: symbolsk matematikk\n",
    "- Matplotlib: visualisering\n",
    "- Altair: visualisering"
   ]
  },
  {
   "cell_type": "markdown",
   "metadata": {},
   "source": [
    "## Sympy\n",
    "\n",
    "Symbolsk matematikk.\n",
    "\n",
    "```python\n",
    "import sympy\n",
    "\n",
    "x = sympy.symbols(\"x\")\n",
    "f = sympy.sin(x)\n",
    "g = sympy.diff(f, x)\n",
    "g.subs(x, 0.5)\n",
    "g.subs(x, sympy.pi).evalf()\n",
    "numpy_function = sympy.lambdify(x, g, \"numpy\")\n",
    "```"
   ]
  },
  {
   "cell_type": "code",
   "execution_count": 48,
   "metadata": {},
   "outputs": [
    {
     "data": {
      "text/plain": [
       "(x, y, sympy.core.symbol.Symbol)"
      ]
     },
     "execution_count": 48,
     "metadata": {},
     "output_type": "execute_result"
    }
   ],
   "source": [
    "import sympy\n",
    "x, y = sympy.symbols(\"x y\")\n",
    "z = sympy.symbols(\"z\")\n",
    "\n",
    "(x, y, type(z))"
   ]
  },
  {
   "cell_type": "code",
   "execution_count": 19,
   "metadata": {},
   "outputs": [
    {
     "data": {
      "text/plain": [
       "cos(x)"
      ]
     },
     "execution_count": 19,
     "metadata": {},
     "output_type": "execute_result"
    }
   ],
   "source": [
    "# help(sympy.sin)\n",
    "f = sympy.sin(x)\n",
    "g = sympy.diff(f, x)\n",
    "g"
   ]
  },
  {
   "cell_type": "code",
   "execution_count": 24,
   "metadata": {},
   "outputs": [
    {
     "data": {
      "text/plain": [
       "0.540302305868140"
      ]
     },
     "execution_count": 24,
     "metadata": {},
     "output_type": "execute_result"
    }
   ],
   "source": [
    "# help(g.subs(x, 1).evalf)\n",
    "g.subs(x, 1).evalf()"
   ]
  },
  {
   "cell_type": "markdown",
   "metadata": {},
   "source": [
    "## Numpy\n",
    "\n",
    "Håndter store arrays effektivt.\n",
    "\n",
    "```python\n",
    "import numpy as np  # Konvensjon\n",
    "\n",
    "xvals = np.linspace(0, 10, 11) # Fra 0 til 10 med 11 datapunkter\n",
    "numpy_function(xvals)\n",
    "```"
   ]
  },
  {
   "cell_type": "code",
   "execution_count": 31,
   "metadata": {},
   "outputs": [],
   "source": [
    "import numpy as np"
   ]
  },
  {
   "cell_type": "code",
   "execution_count": 38,
   "metadata": {},
   "outputs": [],
   "source": [
    "# help(np.linspace)"
   ]
  },
  {
   "cell_type": "code",
   "execution_count": 55,
   "metadata": {},
   "outputs": [],
   "source": [
    "xvalues = np.linspace(0, 10, 21)"
   ]
  },
  {
   "cell_type": "code",
   "execution_count": 44,
   "metadata": {},
   "outputs": [],
   "source": [
    "y = x * x"
   ]
  },
  {
   "cell_type": "code",
   "execution_count": 45,
   "metadata": {},
   "outputs": [
    {
     "data": {
      "text/plain": [
       "array([  0.,   1.,   4.,   9.,  16.,  25.,  36.,  49.,  64.,  81., 100.])"
      ]
     },
     "execution_count": 45,
     "metadata": {},
     "output_type": "execute_result"
    }
   ],
   "source": [
    "y"
   ]
  },
  {
   "cell_type": "code",
   "execution_count": 49,
   "metadata": {},
   "outputs": [],
   "source": [
    "# help(sympy.lambdify)\n",
    "f = sympy.lambdify(x, g, \"numpy\")"
   ]
  },
  {
   "cell_type": "code",
   "execution_count": 50,
   "metadata": {},
   "outputs": [
    {
     "data": {
      "text/plain": [
       "1.0"
      ]
     },
     "execution_count": 50,
     "metadata": {},
     "output_type": "execute_result"
    }
   ],
   "source": [
    "f(0)"
   ]
  },
  {
   "cell_type": "code",
   "execution_count": 52,
   "metadata": {},
   "outputs": [
    {
     "data": {
      "text/plain": [
       "0.9999949269133752"
      ]
     },
     "execution_count": 52,
     "metadata": {},
     "output_type": "execute_result"
    }
   ],
   "source": [
    "f(2*3.14)"
   ]
  },
  {
   "cell_type": "code",
   "execution_count": 56,
   "metadata": {},
   "outputs": [
    {
     "data": {
      "text/plain": [
       "array([ 1.        ,  0.87758256,  0.54030231,  0.0707372 , -0.41614684,\n",
       "       -0.80114362, -0.9899925 , -0.93645669, -0.65364362, -0.2107958 ,\n",
       "        0.28366219,  0.70866977,  0.96017029,  0.97658763,  0.75390225,\n",
       "        0.34663532, -0.14550003, -0.6020119 , -0.91113026, -0.99717216,\n",
       "       -0.83907153])"
      ]
     },
     "execution_count": 56,
     "metadata": {},
     "output_type": "execute_result"
    }
   ],
   "source": [
    "f(xvalues)"
   ]
  },
  {
   "cell_type": "code",
   "execution_count": 59,
   "metadata": {},
   "outputs": [],
   "source": [
    "# help(np.matmul)"
   ]
  },
  {
   "cell_type": "code",
   "execution_count": 60,
   "metadata": {},
   "outputs": [],
   "source": [
    "A = np.array([[1,2], [3,4]])\n",
    "b = np.array([[10], [20]])"
   ]
  },
  {
   "cell_type": "code",
   "execution_count": 61,
   "metadata": {},
   "outputs": [
    {
     "data": {
      "text/plain": [
       "array([[ 50],\n",
       "       [110]])"
      ]
     },
     "execution_count": 61,
     "metadata": {},
     "output_type": "execute_result"
    }
   ],
   "source": [
    "np.matmul(A, b)"
   ]
  },
  {
   "cell_type": "code",
   "execution_count": 62,
   "metadata": {},
   "outputs": [
    {
     "data": {
      "text/plain": [
       "array([[ 50],\n",
       "       [110]])"
      ]
     },
     "execution_count": 62,
     "metadata": {},
     "output_type": "execute_result"
    }
   ],
   "source": [
    "np.dot(A, b)"
   ]
  },
  {
   "cell_type": "code",
   "execution_count": 63,
   "metadata": {},
   "outputs": [
    {
     "data": {
      "text/plain": [
       "array([[ 50],\n",
       "       [110]])"
      ]
     },
     "execution_count": 63,
     "metadata": {},
     "output_type": "execute_result"
    }
   ],
   "source": [
    "A.dot(b)"
   ]
  },
  {
   "cell_type": "code",
   "execution_count": 64,
   "metadata": {},
   "outputs": [
    {
     "data": {
      "text/plain": [
       "array([[ 50],\n",
       "       [110]])"
      ]
     },
     "execution_count": 64,
     "metadata": {},
     "output_type": "execute_result"
    }
   ],
   "source": [
    "A @ b"
   ]
  },
  {
   "cell_type": "code",
   "execution_count": 65,
   "metadata": {},
   "outputs": [],
   "source": [
    "import numpy.linalg as LA"
   ]
  },
  {
   "cell_type": "code",
   "execution_count": 68,
   "metadata": {},
   "outputs": [
    {
     "ename": "LinAlgError",
     "evalue": "Matrix is not positive definite",
     "output_type": "error",
     "traceback": [
      "\u001b[0;31m---------------------------------------------------------------------------\u001b[0m",
      "\u001b[0;31mLinAlgError\u001b[0m                               Traceback (most recent call last)",
      "\u001b[0;32m<ipython-input-68-ddba72c0b7a2>\u001b[0m in \u001b[0;36m<module>\u001b[0;34m\u001b[0m\n\u001b[1;32m      1\u001b[0m \u001b[0;31m# help(LA.cholesky)\u001b[0m\u001b[0;34m\u001b[0m\u001b[0;34m\u001b[0m\u001b[0m\n\u001b[0;32m----> 2\u001b[0;31m \u001b[0mLA\u001b[0m\u001b[0;34m.\u001b[0m\u001b[0mcholesky\u001b[0m\u001b[0;34m(\u001b[0m\u001b[0mA\u001b[0m\u001b[0;34m)\u001b[0m\u001b[0;34m\u001b[0m\u001b[0m\n\u001b[0m",
      "\u001b[0;32m~/anaconda3/lib/python3.7/site-packages/numpy/linalg/linalg.py\u001b[0m in \u001b[0;36mcholesky\u001b[0;34m(a)\u001b[0m\n\u001b[1;32m    731\u001b[0m     \u001b[0mt\u001b[0m\u001b[0;34m,\u001b[0m \u001b[0mresult_t\u001b[0m \u001b[0;34m=\u001b[0m \u001b[0m_commonType\u001b[0m\u001b[0;34m(\u001b[0m\u001b[0ma\u001b[0m\u001b[0;34m)\u001b[0m\u001b[0;34m\u001b[0m\u001b[0m\n\u001b[1;32m    732\u001b[0m     \u001b[0msignature\u001b[0m \u001b[0;34m=\u001b[0m \u001b[0;34m'D->D'\u001b[0m \u001b[0;32mif\u001b[0m \u001b[0misComplexType\u001b[0m\u001b[0;34m(\u001b[0m\u001b[0mt\u001b[0m\u001b[0;34m)\u001b[0m \u001b[0;32melse\u001b[0m \u001b[0;34m'd->d'\u001b[0m\u001b[0;34m\u001b[0m\u001b[0m\n\u001b[0;32m--> 733\u001b[0;31m     \u001b[0mr\u001b[0m \u001b[0;34m=\u001b[0m \u001b[0mgufunc\u001b[0m\u001b[0;34m(\u001b[0m\u001b[0ma\u001b[0m\u001b[0;34m,\u001b[0m \u001b[0msignature\u001b[0m\u001b[0;34m=\u001b[0m\u001b[0msignature\u001b[0m\u001b[0;34m,\u001b[0m \u001b[0mextobj\u001b[0m\u001b[0;34m=\u001b[0m\u001b[0mextobj\u001b[0m\u001b[0;34m)\u001b[0m\u001b[0;34m\u001b[0m\u001b[0m\n\u001b[0m\u001b[1;32m    734\u001b[0m     \u001b[0;32mreturn\u001b[0m \u001b[0mwrap\u001b[0m\u001b[0;34m(\u001b[0m\u001b[0mr\u001b[0m\u001b[0;34m.\u001b[0m\u001b[0mastype\u001b[0m\u001b[0;34m(\u001b[0m\u001b[0mresult_t\u001b[0m\u001b[0;34m,\u001b[0m \u001b[0mcopy\u001b[0m\u001b[0;34m=\u001b[0m\u001b[0;32mFalse\u001b[0m\u001b[0;34m)\u001b[0m\u001b[0;34m)\u001b[0m\u001b[0;34m\u001b[0m\u001b[0m\n\u001b[1;32m    735\u001b[0m \u001b[0;34m\u001b[0m\u001b[0m\n",
      "\u001b[0;32m~/anaconda3/lib/python3.7/site-packages/numpy/linalg/linalg.py\u001b[0m in \u001b[0;36m_raise_linalgerror_nonposdef\u001b[0;34m(err, flag)\u001b[0m\n\u001b[1;32m     90\u001b[0m \u001b[0;34m\u001b[0m\u001b[0m\n\u001b[1;32m     91\u001b[0m \u001b[0;32mdef\u001b[0m \u001b[0m_raise_linalgerror_nonposdef\u001b[0m\u001b[0;34m(\u001b[0m\u001b[0merr\u001b[0m\u001b[0;34m,\u001b[0m \u001b[0mflag\u001b[0m\u001b[0;34m)\u001b[0m\u001b[0;34m:\u001b[0m\u001b[0;34m\u001b[0m\u001b[0m\n\u001b[0;32m---> 92\u001b[0;31m     \u001b[0;32mraise\u001b[0m \u001b[0mLinAlgError\u001b[0m\u001b[0;34m(\u001b[0m\u001b[0;34m\"Matrix is not positive definite\"\u001b[0m\u001b[0;34m)\u001b[0m\u001b[0;34m\u001b[0m\u001b[0m\n\u001b[0m\u001b[1;32m     93\u001b[0m \u001b[0;34m\u001b[0m\u001b[0m\n\u001b[1;32m     94\u001b[0m \u001b[0;32mdef\u001b[0m \u001b[0m_raise_linalgerror_eigenvalues_nonconvergence\u001b[0m\u001b[0;34m(\u001b[0m\u001b[0merr\u001b[0m\u001b[0;34m,\u001b[0m \u001b[0mflag\u001b[0m\u001b[0;34m)\u001b[0m\u001b[0;34m:\u001b[0m\u001b[0;34m\u001b[0m\u001b[0m\n",
      "\u001b[0;31mLinAlgError\u001b[0m: Matrix is not positive definite"
     ]
    }
   ],
   "source": [
    "# help(LA.cholesky)\n",
    "LA.cholesky(A)"
   ]
  },
  {
   "cell_type": "code",
   "execution_count": 69,
   "metadata": {},
   "outputs": [
    {
     "data": {
      "text/plain": [
       "array([[1, 2],\n",
       "       [3, 4]])"
      ]
     },
     "execution_count": 69,
     "metadata": {},
     "output_type": "execute_result"
    }
   ],
   "source": [
    "A"
   ]
  },
  {
   "cell_type": "code",
   "execution_count": 72,
   "metadata": {},
   "outputs": [],
   "source": [
    "# help(np.matrix)"
   ]
  },
  {
   "cell_type": "markdown",
   "metadata": {},
   "source": [
    "## Pandas\n",
    "\n",
    "Organiser datasett på en organisert, fleksibel måte\n",
    "\n",
    "```python\n",
    "import pandas as pd  # Konvensjon\n",
    "\n",
    "data = DataFrame({\"x\": [1,2,3], \"y\": [1, 4, 9]})\n",
    "```"
   ]
  },
  {
   "cell_type": "code",
   "execution_count": 73,
   "metadata": {},
   "outputs": [],
   "source": [
    "import pandas as pd\n",
    "\n",
    "data = pd.DataFrame({\"x\": [1,2,3], \"y\": [1, 4, 9]})"
   ]
  },
  {
   "cell_type": "code",
   "execution_count": 74,
   "metadata": {},
   "outputs": [
    {
     "data": {
      "text/html": [
       "<div>\n",
       "<style scoped>\n",
       "    .dataframe tbody tr th:only-of-type {\n",
       "        vertical-align: middle;\n",
       "    }\n",
       "\n",
       "    .dataframe tbody tr th {\n",
       "        vertical-align: top;\n",
       "    }\n",
       "\n",
       "    .dataframe thead th {\n",
       "        text-align: right;\n",
       "    }\n",
       "</style>\n",
       "<table border=\"1\" class=\"dataframe\">\n",
       "  <thead>\n",
       "    <tr style=\"text-align: right;\">\n",
       "      <th></th>\n",
       "      <th>x</th>\n",
       "      <th>y</th>\n",
       "    </tr>\n",
       "  </thead>\n",
       "  <tbody>\n",
       "    <tr>\n",
       "      <th>0</th>\n",
       "      <td>1</td>\n",
       "      <td>1</td>\n",
       "    </tr>\n",
       "    <tr>\n",
       "      <th>1</th>\n",
       "      <td>2</td>\n",
       "      <td>4</td>\n",
       "    </tr>\n",
       "    <tr>\n",
       "      <th>2</th>\n",
       "      <td>3</td>\n",
       "      <td>9</td>\n",
       "    </tr>\n",
       "  </tbody>\n",
       "</table>\n",
       "</div>"
      ],
      "text/plain": [
       "   x  y\n",
       "0  1  1\n",
       "1  2  4\n",
       "2  3  9"
      ]
     },
     "execution_count": 74,
     "metadata": {},
     "output_type": "execute_result"
    }
   ],
   "source": [
    "data"
   ]
  },
  {
   "cell_type": "code",
   "execution_count": 92,
   "metadata": {},
   "outputs": [],
   "source": [
    "x = np.linspace(0, 100, 101)\n",
    "y = np.sin(x)\n",
    "\n",
    "data2 = pd.DataFrame({\"time\": x, \"reaction\": y})"
   ]
  },
  {
   "cell_type": "code",
   "execution_count": 84,
   "metadata": {},
   "outputs": [
    {
     "data": {
      "text/plain": [
       "0.1411200080598672"
      ]
     },
     "execution_count": 84,
     "metadata": {},
     "output_type": "execute_result"
    }
   ],
   "source": [
    "data2.y[3]"
   ]
  },
  {
   "cell_type": "markdown",
   "metadata": {},
   "source": [
    "## Altair\n",
    "\n"
   ]
  },
  {
   "cell_type": "code",
   "execution_count": 89,
   "metadata": {},
   "outputs": [],
   "source": [
    "import altair as alt"
   ]
  },
  {
   "cell_type": "code",
   "execution_count": 87,
   "metadata": {},
   "outputs": [
    {
     "data": {
      "text/html": [
       "<div>\n",
       "<style scoped>\n",
       "    .dataframe tbody tr th:only-of-type {\n",
       "        vertical-align: middle;\n",
       "    }\n",
       "\n",
       "    .dataframe tbody tr th {\n",
       "        vertical-align: top;\n",
       "    }\n",
       "\n",
       "    .dataframe thead th {\n",
       "        text-align: right;\n",
       "    }\n",
       "</style>\n",
       "<table border=\"1\" class=\"dataframe\">\n",
       "  <thead>\n",
       "    <tr style=\"text-align: right;\">\n",
       "      <th></th>\n",
       "      <th>x</th>\n",
       "      <th>y</th>\n",
       "    </tr>\n",
       "  </thead>\n",
       "  <tbody>\n",
       "    <tr>\n",
       "      <th>0</th>\n",
       "      <td>1</td>\n",
       "      <td>1</td>\n",
       "    </tr>\n",
       "    <tr>\n",
       "      <th>1</th>\n",
       "      <td>2</td>\n",
       "      <td>4</td>\n",
       "    </tr>\n",
       "    <tr>\n",
       "      <th>2</th>\n",
       "      <td>3</td>\n",
       "      <td>9</td>\n",
       "    </tr>\n",
       "  </tbody>\n",
       "</table>\n",
       "</div>"
      ],
      "text/plain": [
       "   x  y\n",
       "0  1  1\n",
       "1  2  4\n",
       "2  3  9"
      ]
     },
     "execution_count": 87,
     "metadata": {},
     "output_type": "execute_result"
    }
   ],
   "source": [
    "data"
   ]
  },
  {
   "cell_type": "code",
   "execution_count": 94,
   "metadata": {},
   "outputs": [
    {
     "data": {
      "application/vnd.vegalite.v2+json": {
       "$schema": "https://vega.github.io/schema/vega-lite/v2.6.0.json",
       "config": {
        "view": {
         "height": 300,
         "width": 400
        }
       },
       "data": {
        "name": "data-487a80a5fdfa89f92e876dc4d080a085"
       },
       "datasets": {
        "data-487a80a5fdfa89f92e876dc4d080a085": [
         {
          "reaction": 0,
          "time": 0
         },
         {
          "reaction": 0.8414709848078965,
          "time": 1
         },
         {
          "reaction": 0.9092974268256817,
          "time": 2
         },
         {
          "reaction": 0.1411200080598672,
          "time": 3
         },
         {
          "reaction": -0.7568024953079282,
          "time": 4
         },
         {
          "reaction": -0.9589242746631385,
          "time": 5
         },
         {
          "reaction": -0.27941549819892586,
          "time": 6
         },
         {
          "reaction": 0.6569865987187891,
          "time": 7
         },
         {
          "reaction": 0.9893582466233818,
          "time": 8
         },
         {
          "reaction": 0.4121184852417566,
          "time": 9
         },
         {
          "reaction": -0.5440211108893698,
          "time": 10
         },
         {
          "reaction": -0.9999902065507035,
          "time": 11
         },
         {
          "reaction": -0.5365729180004349,
          "time": 12
         },
         {
          "reaction": 0.4201670368266409,
          "time": 13
         },
         {
          "reaction": 0.9906073556948704,
          "time": 14
         },
         {
          "reaction": 0.6502878401571168,
          "time": 15
         },
         {
          "reaction": -0.2879033166650653,
          "time": 16
         },
         {
          "reaction": -0.9613974918795568,
          "time": 17
         },
         {
          "reaction": -0.750987246771676,
          "time": 18
         },
         {
          "reaction": 0.14987720966295234,
          "time": 19
         },
         {
          "reaction": 0.9129452507276277,
          "time": 20
         },
         {
          "reaction": 0.8366556385360561,
          "time": 21
         },
         {
          "reaction": -0.008851309290403876,
          "time": 22
         },
         {
          "reaction": -0.8462204041751706,
          "time": 23
         },
         {
          "reaction": -0.9055783620066239,
          "time": 24
         },
         {
          "reaction": -0.13235175009777303,
          "time": 25
         },
         {
          "reaction": 0.7625584504796027,
          "time": 26
         },
         {
          "reaction": 0.956375928404503,
          "time": 27
         },
         {
          "reaction": 0.27090578830786904,
          "time": 28
         },
         {
          "reaction": -0.6636338842129675,
          "time": 29
         },
         {
          "reaction": -0.9880316240928618,
          "time": 30
         },
         {
          "reaction": -0.404037645323065,
          "time": 31
         },
         {
          "reaction": 0.5514266812416906,
          "time": 32
         },
         {
          "reaction": 0.9999118601072672,
          "time": 33
         },
         {
          "reaction": 0.5290826861200238,
          "time": 34
         },
         {
          "reaction": -0.428182669496151,
          "time": 35
         },
         {
          "reaction": -0.9917788534431158,
          "time": 36
         },
         {
          "reaction": -0.6435381333569995,
          "time": 37
         },
         {
          "reaction": 0.2963685787093853,
          "time": 38
         },
         {
          "reaction": 0.9637953862840878,
          "time": 39
         },
         {
          "reaction": 0.7451131604793488,
          "time": 40
         },
         {
          "reaction": -0.158622668804709,
          "time": 41
         },
         {
          "reaction": -0.9165215479156338,
          "time": 42
         },
         {
          "reaction": -0.8317747426285983,
          "time": 43
         },
         {
          "reaction": 0.017701925105413577,
          "time": 44
         },
         {
          "reaction": 0.8509035245341184,
          "time": 45
         },
         {
          "reaction": 0.9017883476488092,
          "time": 46
         },
         {
          "reaction": 0.123573122745224,
          "time": 47
         },
         {
          "reaction": -0.7682546613236668,
          "time": 48
         },
         {
          "reaction": -0.9537526527594719,
          "time": 49
         },
         {
          "reaction": -0.26237485370392877,
          "time": 50
         },
         {
          "reaction": 0.6702291758433747,
          "time": 51
         },
         {
          "reaction": 0.9866275920404853,
          "time": 52
         },
         {
          "reaction": 0.39592515018183416,
          "time": 53
         },
         {
          "reaction": -0.5587890488516163,
          "time": 54
         },
         {
          "reaction": -0.9997551733586199,
          "time": 55
         },
         {
          "reaction": -0.5215510020869119,
          "time": 56
         },
         {
          "reaction": 0.43616475524782494,
          "time": 57
         },
         {
          "reaction": 0.9928726480845371,
          "time": 58
         },
         {
          "reaction": 0.6367380071391379,
          "time": 59
         },
         {
          "reaction": -0.3048106211022167,
          "time": 60
         },
         {
          "reaction": -0.9661177700083929,
          "time": 61
         },
         {
          "reaction": -0.7391806966492228,
          "time": 62
         },
         {
          "reaction": 0.16735570030280691,
          "time": 63
         },
         {
          "reaction": 0.9200260381967906,
          "time": 64
         },
         {
          "reaction": 0.8268286794901034,
          "time": 65
         },
         {
          "reaction": -0.026551154023966794,
          "time": 66
         },
         {
          "reaction": -0.8555199789753223,
          "time": 67
         },
         {
          "reaction": -0.8979276806892913,
          "time": 68
         },
         {
          "reaction": -0.11478481378318722,
          "time": 69
         },
         {
          "reaction": 0.7738906815578891,
          "time": 70
         },
         {
          "reaction": 0.9510546532543747,
          "time": 71
         },
         {
          "reaction": 0.25382336276203626,
          "time": 72
         },
         {
          "reaction": -0.6767719568873076,
          "time": 73
         },
         {
          "reaction": -0.9851462604682474,
          "time": 74
         },
         {
          "reaction": -0.38778163540943045,
          "time": 75
         },
         {
          "reaction": 0.5661076368981803,
          "time": 76
         },
         {
          "reaction": 0.9995201585807313,
          "time": 77
         },
         {
          "reaction": 0.5139784559875352,
          "time": 78
         },
         {
          "reaction": -0.4441126687075084,
          "time": 79
         },
         {
          "reaction": -0.9938886539233752,
          "time": 80
         },
         {
          "reaction": -0.6298879942744539,
          "time": 81
         },
         {
          "reaction": 0.31322878243308516,
          "time": 82
         },
         {
          "reaction": 0.9683644611001854,
          "time": 83
         },
         {
          "reaction": 0.7331903200732922,
          "time": 84
         },
         {
          "reaction": -0.1760756199485871,
          "time": 85
         },
         {
          "reaction": -0.9234584470040598,
          "time": 86
         },
         {
          "reaction": -0.8218178366308225,
          "time": 87
         },
         {
          "reaction": 0.03539830273366068,
          "time": 88
         },
         {
          "reaction": 0.8600694058124533,
          "time": 89
         },
         {
          "reaction": 0.8939966636005579,
          "time": 90
         },
         {
          "reaction": 0.10598751175115685,
          "time": 91
         },
         {
          "reaction": -0.7794660696158047,
          "time": 92
         },
         {
          "reaction": -0.9482821412699473,
          "time": 93
         },
         {
          "reaction": -0.24525198546765434,
          "time": 94
         },
         {
          "reaction": 0.683261714736121,
          "time": 95
         },
         {
          "reaction": 0.9835877454343449,
          "time": 96
         },
         {
          "reaction": 0.3796077390275217,
          "time": 97
         },
         {
          "reaction": -0.5733818719904229,
          "time": 98
         },
         {
          "reaction": -0.9992068341863537,
          "time": 99
         },
         {
          "reaction": -0.5063656411097588,
          "time": 100
         }
        ]
       },
       "encoding": {
        "x": {
         "field": "time",
         "type": "quantitative"
        },
        "y": {
         "field": "reaction",
         "type": "quantitative"
        }
       },
       "mark": "line"
      },
      "image/png": "[encoded data removed]",
      "text/plain": [
       "<VegaLite 2 object>\n",
       "\n",
       "If you see this message, it means the renderer has not been properly enabled\n",
       "for the frontend that you are using. For more information, see\n",
       "https://altair-viz.github.io/user_guide/troubleshooting.html\n"
      ]
     },
     "execution_count": 94,
     "metadata": {},
     "output_type": "execute_result"
    }
   ],
   "source": [
    "alt.Chart(data2).mark_line().encode(\n",
    "    x = \"time\",\n",
    "    y = \"reaction\"\n",
    ")"
   ]
  }
 ],
 "metadata": {
  "kernelspec": {
   "display_name": "Python 3",
   "language": "python",
   "name": "python3"
  },
  "language_info": {
   "codemirror_mode": {
    "name": "ipython",
    "version": 3
   },
   "file_extension": ".py",
   "mimetype": "text/x-python",
   "name": "python",
   "nbconvert_exporter": "python",
   "pygments_lexer": "ipython3",
   "version": "3.7.0"
  }
 },
 "nbformat": 4,
 "nbformat_minor": 2
}
