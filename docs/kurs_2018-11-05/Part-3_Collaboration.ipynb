{
 "cells": [
  {
   "cell_type": "markdown",
   "metadata": {},
   "source": [
    "# Del 3: Samhandling med Jupyter Notebooks"
   ]
  },
  {
   "cell_type": "markdown",
   "metadata": {},
   "source": [
    "Hva er relevant å tenke "
   ]
  },
  {
   "cell_type": "code",
   "execution_count": 2,
   "metadata": {},
   "outputs": [
    {
     "name": "stdout",
     "output_type": "stream",
     "text": [
      "Requirement already up-to-date: ntnu.kt in /home/teodorlu/.local/lib/python3.7/site-packages (0.0.6)\n"
     ]
    }
   ],
   "source": [
    "# The shared library can be installed from within a notebook\n",
    "import sys\n",
    "!{sys.executable} -m pip install --user --upgrade ntnu.kt"
   ]
  },
  {
   "cell_type": "code",
   "execution_count": 4,
   "metadata": {},
   "outputs": [
    {
     "data": {
      "text/plain": [
       "<module 'ntnu.kt' from '/home/teodorlu/.local/lib/python3.7/site-packages/ntnu/kt/__init__.py'>"
      ]
     },
     "execution_count": 4,
     "metadata": {},
     "output_type": "execute_result"
    }
   ],
   "source": [
    "\"\"\"\n",
    "If we need to develop the notebook and the library at the same time, we\n",
    "can reload the library without restarting the notebook. We need to reload\n",
    "every time we push a new version to the library.\n",
    "\"\"\"\n",
    "import importlib\n",
    "import ntnu.kt\n",
    "importlib.reload(ntnu.kt)"
   ]
  },
  {
   "cell_type": "code",
   "execution_count": 5,
   "metadata": {},
   "outputs": [
    {
     "name": "stdout",
     "output_type": "stream",
     "text": [
      "Help on package ntnu.kt in ntnu:\n",
      "\n",
      "NAME\n",
      "    ntnu.kt\n",
      "\n",
      "PACKAGE CONTENTS\n",
      "\n",
      "\n",
      "DATA\n",
      "    momentum = 'Hopefully yet larger!!!'\n",
      "    msg = 'Hello from the ntnu.kt package'\n",
      "\n",
      "FILE\n",
      "    /home/teodorlu/.local/lib/python3.7/site-packages/ntnu/kt/__init__.py\n",
      "\n",
      "\n"
     ]
    }
   ],
   "source": [
    "help(ntnu.kt)"
   ]
  }
 ],
 "metadata": {
  "kernelspec": {
   "display_name": "Python 3",
   "language": "python",
   "name": "python3"
  },
  "language_info": {
   "codemirror_mode": {
    "name": "ipython",
    "version": 3
   },
   "file_extension": ".py",
   "mimetype": "text/x-python",
   "name": "python",
   "nbconvert_exporter": "python",
   "pygments_lexer": "ipython3",
   "version": "3.7.0"
  }
 },
 "nbformat": 4,
 "nbformat_minor": 2
}
