{
 "cells": [
  {
   "cell_type": "markdown",
   "metadata": {},
   "source": [
    "# Del 3: Samhandling med Jupyter Notebooks"
   ]
  },
  {
   "cell_type": "markdown",
   "metadata": {},
   "source": [
    "Tilfeller:\n",
    "\n",
    "- Vise eksempel på løsning\n",
    "- Bygge på felles kode"
   ]
  },
  {
   "cell_type": "markdown",
   "metadata": {},
   "source": [
    "## Vise eksempel på løsning med en Notebook\n",
    "\n",
    "- Direkte bruk i forelesning\n",
    "- Ferdig Notebook som andre kan bruke\n",
    "  - Mulig løsning: Link til NTNU-server for Notebooks\n",
    "  - Mulig løsning: Link til Github-repo med .ipynb-filer"
   ]
  },
  {
   "cell_type": "markdown",
   "metadata": {},
   "source": [
    "## Bygge på felles kode ved å publisere pakke\n",
    "\n",
    "- Kildekode typisk på Github. https://github.com/ntnu-kt/ntnu.kt\n",
    "- Pakke på Pypi. https://pypi.org/project/ntnu.kt/"
   ]
  },
  {
   "cell_type": "code",
   "execution_count": 2,
   "metadata": {},
   "outputs": [
    {
     "name": "stdout",
     "output_type": "stream",
     "text": [
      "Requirement already up-to-date: ntnu.kt in /home/teodorlu/.local/lib/python3.7/site-packages (0.0.6)\n"
     ]
    }
   ],
   "source": [
    "# The shared library can be installed from within a notebook\n",
    "import sys\n",
    "!{sys.executable} -m pip install --user --upgrade ntnu.kt"
   ]
  },
  {
   "cell_type": "code",
   "execution_count": 4,
   "metadata": {},
   "outputs": [
    {
     "data": {
      "text/plain": [
       "<module 'ntnu.kt' from '/home/teodorlu/.local/lib/python3.7/site-packages/ntnu/kt/__init__.py'>"
      ]
     },
     "execution_count": 4,
     "metadata": {},
     "output_type": "execute_result"
    }
   ],
   "source": [
    "\"\"\"\n",
    "If we need to develop the notebook and the library at the same time, we\n",
    "can reload the library without restarting the notebook. We need to reload\n",
    "every time we push a new version to the library.\n",
    "\"\"\"\n",
    "import importlib\n",
    "import ntnu.kt\n",
    "importlib.reload(ntnu.kt)"
   ]
  },
  {
   "cell_type": "code",
   "execution_count": 1,
   "metadata": {},
   "outputs": [],
   "source": [
    "# help(ntnu.kt)"
   ]
  },
  {
   "cell_type": "markdown",
   "metadata": {},
   "source": [
    "### Fagmoduler?\n",
    "\n",
    "Demo gitt tid. Lage:\n",
    "\n",
    "- `ntnu.kt.course.tkt4116`\n",
    "- `ntnu.kt.course.tkt4122`"
   ]
  }
 ],
 "metadata": {
  "kernelspec": {
   "display_name": "Python 3",
   "language": "python",
   "name": "python3"
  },
  "language_info": {
   "codemirror_mode": {
    "name": "ipython",
    "version": 3
   },
   "file_extension": ".py",
   "mimetype": "text/x-python",
   "name": "python",
   "nbconvert_exporter": "python",
   "pygments_lexer": "ipython3",
   "version": "3.7.0"
  }
 },
 "nbformat": 4,
 "nbformat_minor": 2
}
