{
 "cells": [
  {
   "cell_type": "markdown",
   "metadata": {},
   "source": [
    "# Del 3: Samhandling med Jupyter Notebooks"
   ]
  },
  {
   "cell_type": "markdown",
   "metadata": {},
   "source": [
    "Tilfeller:\n",
    "\n",
    "- Vise eksempel på løsning\n",
    "- Bygge på felles kode"
   ]
  },
  {
   "cell_type": "markdown",
   "metadata": {},
   "source": [
    "$$\n",
    "y = \\int_0^t f(x)\n",
    "$$"
   ]
  },
  {
   "cell_type": "markdown",
   "metadata": {},
   "source": [
    "## Vise eksempel på løsning med en Notebook\n",
    "\n",
    "- Direkte bruk i forelesning\n",
    "- Ferdig Notebook som andre kan bruke\n",
    "  - Mulig løsning: Link til NTNU-server for Notebooks\n",
    "  - Mulig løsning: Link til Github-repo med .ipynb-filer"
   ]
  },
  {
   "cell_type": "markdown",
   "metadata": {},
   "source": [
    "## Bygge på felles kode ved å publisere pakke\n",
    "\n",
    "- Kildekode typisk på Github. https://github.com/ntnu-kt/ntnu.kt\n",
    "- Pakke på Pypi. https://pypi.org/project/ntnu.kt/"
   ]
  },
  {
   "cell_type": "code",
   "execution_count": 1,
   "metadata": {},
   "outputs": [
    {
     "name": "stdout",
     "output_type": "stream",
     "text": [
      "Collecting ntnu.kt\n",
      "  Downloading https://files.pythonhosted.org/packages/87/89/b60eb86a06781ac61ebd0fe2acea68232cf19ff95601a102124f707e850b/ntnu.kt-0.0.7-py3-none-any.whl\n",
      "Installing collected packages: ntnu.kt\n",
      "  Found existing installation: ntnu.kt 0.0.6\n",
      "    Uninstalling ntnu.kt-0.0.6:\n",
      "      Successfully uninstalled ntnu.kt-0.0.6\n",
      "Successfully installed ntnu.kt-0.0.7\n"
     ]
    }
   ],
   "source": [
    "# The shared library can be installed from within a notebook\n",
    "import sys\n",
    "!{sys.executable} -m pip install --user --upgrade ntnu.kt"
   ]
  },
  {
   "cell_type": "code",
   "execution_count": 3,
   "metadata": {},
   "outputs": [
    {
     "data": {
      "text/plain": [
       "<module 'ntnu.kt' from '/home/teodorlu/.local/lib/python3.7/site-packages/ntnu/kt/__init__.py'>"
      ]
     },
     "execution_count": 3,
     "metadata": {},
     "output_type": "execute_result"
    }
   ],
   "source": [
    "\"\"\"\n",
    "If we need to develop the notebook and the library at the same time, we\n",
    "can reload the library without restarting the notebook. We need to reload\n",
    "every time we push a new version to the library.\n",
    "\"\"\"\n",
    "import importlib\n",
    "import ntnu.kt\n",
    "importlib.reload(ntnu.kt)"
   ]
  },
  {
   "cell_type": "code",
   "execution_count": 1,
   "metadata": {},
   "outputs": [],
   "source": [
    "# help(ntnu.kt)"
   ]
  },
  {
   "cell_type": "markdown",
   "metadata": {},
   "source": [
    "### Fagmoduler?\n",
    "\n",
    "Demo gitt tid. Lage:\n",
    "\n",
    "- `ntnu.kt.course.tkt4116`\n",
    "- `ntnu.kt.course.tkt4122`"
   ]
  },
  {
   "cell_type": "code",
   "execution_count": 1,
   "metadata": {},
   "outputs": [
    {
     "ename": "ModuleNotFoundError",
     "evalue": "No module named 'ntnu.kt.course'",
     "output_type": "error",
     "traceback": [
      "\u001b[0;31m---------------------------------------------------------------------------\u001b[0m",
      "\u001b[0;31mModuleNotFoundError\u001b[0m                       Traceback (most recent call last)",
      "\u001b[0;32m<ipython-input-1-885b1b8edc89>\u001b[0m in \u001b[0;36m<module>\u001b[0;34m\u001b[0m\n\u001b[0;32m----> 1\u001b[0;31m \u001b[0;32mimport\u001b[0m \u001b[0mntnu\u001b[0m\u001b[0;34m.\u001b[0m\u001b[0mkt\u001b[0m\u001b[0;34m.\u001b[0m\u001b[0mcourse\u001b[0m\u001b[0;34m.\u001b[0m\u001b[0mtkt4116\u001b[0m \u001b[0;32mas\u001b[0m \u001b[0mmek1\u001b[0m\u001b[0;34m\u001b[0m\u001b[0m\n\u001b[0m",
      "\u001b[0;31mModuleNotFoundError\u001b[0m: No module named 'ntnu.kt.course'"
     ]
    }
   ],
   "source": [
    "import ntnu.kt.course.tkt4116 as mek1"
   ]
  },
  {
   "cell_type": "code",
   "execution_count": 4,
   "metadata": {},
   "outputs": [],
   "source": [
    "import ntnu.kt"
   ]
  },
  {
   "cell_type": "code",
   "execution_count": 5,
   "metadata": {},
   "outputs": [
    {
     "name": "stdout",
     "output_type": "stream",
     "text": [
      "Help on package ntnu.kt in ntnu:\n",
      "\n",
      "NAME\n",
      "    ntnu.kt\n",
      "\n",
      "PACKAGE CONTENTS\n",
      "\n",
      "\n",
      "DATA\n",
      "    momentum = 'Hopefully yet larger!!!'\n",
      "    msg = 'Hello from the ntnu.kt package'\n",
      "\n",
      "FILE\n",
      "    /home/teodorlu/.local/lib/python3.7/site-packages/ntnu/kt/__init__.py\n",
      "\n",
      "\n"
     ]
    }
   ],
   "source": [
    "help(ntnu.kt)"
   ]
  },
  {
   "cell_type": "code",
   "execution_count": 6,
   "metadata": {},
   "outputs": [
    {
     "data": {
      "text/plain": [
       "'Hello from the ntnu.kt package'"
      ]
     },
     "execution_count": 6,
     "metadata": {},
     "output_type": "execute_result"
    }
   ],
   "source": [
    "ntnu.kt.msg"
   ]
  }
 ],
 "metadata": {
  "kernelspec": {
   "display_name": "Python 3",
   "language": "python",
   "name": "python3"
  },
  "language_info": {
   "codemirror_mode": {
    "name": "ipython",
    "version": 3
   },
   "file_extension": ".py",
   "mimetype": "text/x-python",
   "name": "python",
   "nbconvert_exporter": "python",
   "pygments_lexer": "ipython3",
   "version": "3.7.0"
  }
 },
 "nbformat": 4,
 "nbformat_minor": 2
}
